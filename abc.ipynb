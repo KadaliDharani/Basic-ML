{
  "nbformat": 4,
  "nbformat_minor": 0,
  "metadata": {
    "colab": {
      "name": "abc.ipynb",
      "provenance": []
    },
    "kernelspec": {
      "name": "python3",
      "display_name": "Python 3"
    },
    "language_info": {
      "name": "python"
    }
  },
  "cells": [
    {
      "cell_type": "code",
      "metadata": {
        "id": "6LqgPqwZ39OE"
      },
      "source": [
        ""
      ],
      "execution_count": null,
      "outputs": []
    },
    {
      "cell_type": "markdown",
      "metadata": {
        "id": "1Sti7CCf4MnZ"
      },
      "source": [
        "Program to find the power "
      ]
    },
    {
      "cell_type": "code",
      "metadata": {
        "colab": {
          "base_uri": "https://localhost:8080/"
        },
        "id": "abuOOXlC4X5i",
        "outputId": "1fcb96f7-1588-4344-d63c-dddde3b82701"
      },
      "source": [
        "def pow(a,b):\n",
        "  p=a**b\n",
        "  return p\n",
        "a=int(input(\"enter the value of a : \"))\n",
        "b=int(input(\"enter the value od b : \"))\n",
        "print(\"power of two numbers is \", pow(a,b))\n",
        "\n"
      ],
      "execution_count": null,
      "outputs": [
        {
          "output_type": "stream",
          "name": "stdout",
          "text": [
            "enter the value of a : 2\n",
            "entr the value od b : 3\n",
            "power of two numbers is  8\n"
          ]
        }
      ]
    },
    {
      "cell_type": "markdown",
      "metadata": {
        "id": "w-iWrYgD5OUe"
      },
      "source": [
        "Program to find the factorial of a number"
      ]
    },
    {
      "cell_type": "code",
      "metadata": {
        "colab": {
          "base_uri": "https://localhost:8080/"
        },
        "id": "qhuALA4v5VcB",
        "outputId": "bc027133-6a72-4c3b-90e5-81f44e5448cc"
      },
      "source": [
        "def fact(n):\n",
        "  if (n==0 or n==1):\n",
        "    return 1\n",
        "  else:\n",
        "    return n*fact(n-1)\n",
        "n=int(input(\"enter a value : \"))\n",
        "print(\"factorial =\" ,fact(n))"
      ],
      "execution_count": null,
      "outputs": [
        {
          "output_type": "stream",
          "name": "stdout",
          "text": [
            "enter a value : 5\n",
            "factorial = 120\n"
          ]
        }
      ]
    },
    {
      "cell_type": "markdown",
      "metadata": {
        "id": "z2C2ueP06-0X"
      },
      "source": [
        "program to identify given number is a palindrome or not"
      ]
    },
    {
      "cell_type": "code",
      "metadata": {
        "id": "vaEimKbh7Fhn"
      },
      "source": [
        "n=int(input(\"enter the value of n :\"))\n",
        "num=n\n",
        "rev=0\n",
        "while(n>0):\n",
        "    r=n%10\n",
        "    rev=rev*10+r\n",
        "    n=n//10\n",
        "if (num==rev):\n",
        "  print(\"given number is a palindrome\")\n",
        "else:\n",
        "  print(\"given number is not a palindrome\")\n",
        "\n",
        "\n"
      ],
      "execution_count": null,
      "outputs": []
    },
    {
      "cell_type": "code",
      "metadata": {
        "id": "cxTFv9Vn8IIT"
      },
      "source": [
        ""
      ],
      "execution_count": null,
      "outputs": []
    }
  ]
}